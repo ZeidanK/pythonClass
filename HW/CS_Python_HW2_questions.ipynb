{
  "cells": [
    {
      "cell_type": "markdown",
      "metadata": {
        "id": "oxDi2js_9N94"
      },
      "source": [
        "# CS Python\n",
        "# Homework #2 - Questions\n"
      ]
    },
    {
      "cell_type": "markdown",
      "metadata": {
        "id": "_MpSXV99a428"
      },
      "source": [
        "# GENERAL REQUIREMENT:\n",
        "\n",
        "In all questions your implementation should handle wrong inputs or parameters (bad types, etc) (for example print \"Bad Input of type...\").\n",
        "If you are requested to implement a function, you must also write code using the function, requesting input from user and checking functionality and examples of errors."
      ]
    },
    {
      "cell_type": "markdown",
      "metadata": {
        "id": "Q9C8aqio0ZwF"
      },
      "source": [
        "# Question 1\n",
        "Write a function named TEXT_ANALYSIS receiving as paramter a string TEXT and returning:\n",
        "* a dictionary SYMBOL_HISTOGRAM: for each symbol (letter, cifra, special symbol) contained in TEXT the count of words including this symbol in the TEXT\n",
        "(if a letter appears more than once in a single word, it is counted as the number of its appeareances).\n",
        "* a dictionary containing the list of words including this symbol ( a word should appear only once per letter)\n",
        "\n",
        "Example:\n",
        "\n",
        "\n",
        "TEXT = \"This is an example of a text having multipleeeee lengthssssssssss 12345 example\"\n",
        "\n",
        "The output of TEXT_ANALYSIS(TEXT) should be a dictionary as follows:\n",
        "({'t': 5,\n",
        "  'h': 3,\n",
        "  'i': 4,\n",
        "  's': 12,\n",
        "  'a': 5,\n",
        "  'n': 3,\n",
        "  'e': 11,\n",
        "  'x': 3,\n",
        "  'm': 3,\n",
        "  'p': 3,\n",
        "  'l': 5,\n",
        "  'o': 1,\n",
        "  'f': 1,\n",
        "  'v': 1,\n",
        "  'g': 2,\n",
        "  'u': 1,\n",
        "  '1': 1,\n",
        "  '2': 1,\n",
        "  '3': 1,\n",
        "  '4': 1,\n",
        "  '5': 1},\n",
        " {'t': ['this', 'text', 'multipleeeee', 'lengthssssssssss'],\n",
        "  'h': ['this', 'having', 'lengthssssssssss'],\n",
        "  'i': ['this', 'is', 'having', 'multipleeeee'],\n",
        "  's': ['this', 'is', 'lengthssssssssss'],\n",
        "  'a': ['an', 'example', 'a', 'having'],\n",
        "  'n': ['an', 'having', 'lengthssssssssss'],\n",
        "  'e': ['example', 'text', 'multipleeeee', 'lengthssssssssss'],\n",
        "  'x': ['example', 'text'],\n",
        "  'm': ['example', 'multipleeeee'],\n",
        "  'p': ['example', 'multipleeeee'],\n",
        "  'l': ['example', 'multipleeeee', 'lengthssssssssss'],\n",
        "  'o': ['of'],\n",
        "  'f': ['of'],\n",
        "  'v': ['having'],\n",
        "  'g': ['having', 'lengthssssssssss'],\n",
        "  'u': ['multipleeeee'],\n",
        "  '1': ['12345'],\n",
        "  '2': ['12345'],\n",
        "  '3': ['12345'],\n",
        "  '4': ['12345'],\n",
        "  '5': ['12345']})\n",
        "\n",
        "\n"
      ]
    },
    {
      "cell_type": "code",
      "execution_count": 2,
      "metadata": {},
      "outputs": [
        {
          "name": "stdout",
          "output_type": "stream",
          "text": [
            "Symbol Histogram: \n",
            "T: 1\n",
            "h: 3\n",
            "i: 4\n",
            "s: 12\n",
            "a: 5\n",
            "n: 3\n",
            "e: 11\n",
            "x: 3\n",
            "m: 3\n",
            "p: 3\n",
            "l: 5\n",
            "o: 1\n",
            "f: 1\n",
            "t: 4\n",
            "v: 1\n",
            "g: 2\n",
            "u: 1\n",
            "1: 1\n",
            "2: 1\n",
            "3: 1\n",
            "4: 1\n",
            "5: 1\n",
            "Words with Symbol: \n",
            "T: ['This']\n",
            "h: ['This', 'having', 'lengthssssssssss']\n",
            "i: ['This', 'is', 'having', 'multipleeeee']\n",
            "s: ['This', 'is', 'lengthssssssssss']\n",
            "a: ['an', 'example', 'a', 'having']\n",
            "n: ['an', 'having', 'lengthssssssssss']\n",
            "e: ['example', 'text', 'multipleeeee', 'lengthssssssssss']\n",
            "x: ['example', 'text']\n",
            "m: ['example', 'multipleeeee']\n",
            "p: ['example', 'multipleeeee']\n",
            "l: ['example', 'multipleeeee', 'lengthssssssssss']\n",
            "o: ['of']\n",
            "f: ['of']\n",
            "t: ['text', 'multipleeeee', 'lengthssssssssss']\n",
            "v: ['having']\n",
            "g: ['having', 'lengthssssssssss']\n",
            "u: ['multipleeeee']\n",
            "1: ['12345']\n",
            "2: ['12345']\n",
            "3: ['12345']\n",
            "4: ['12345']\n",
            "5: ['12345']\n"
          ]
        }
      ],
      "source": [
        "def TEXT_ANALYSIS(TEXT):\n",
        "    if not isinstance(TEXT, str):\n",
        "        print(\"Bad Input of type...\")\n",
        "        return\n",
        "\n",
        "    symbol_histogram = {}\n",
        "    words_with_symbol = {}\n",
        "\n",
        "    words = TEXT.split()\n",
        "    for word in words:\n",
        "        for char in word:\n",
        "            symbol_histogram[char] = symbol_histogram.get(char, 0) + 1\n",
        "            if char not in words_with_symbol:\n",
        "                words_with_symbol[char] = [word]\n",
        "            elif word not in words_with_symbol[char]:\n",
        "                words_with_symbol[char].append(word)\n",
        "\n",
        "    return symbol_histogram, words_with_symbol\n",
        "\n",
        "# Using the function\n",
        "try:\n",
        "    TEXT = input(\"Enter a text: \")\n",
        "    result = TEXT_ANALYSIS(TEXT)\n",
        "    print(\"Symbol Histogram: \")\n",
        "    for key, value in result[0].items():\n",
        "        print(f\"{key}: {value}\")\n",
        "    print(\"Words with Symbol: \")\n",
        "    for key, value in result[1].items():\n",
        "        print(f\"{key}: {value}\")\n",
        "except Exception as e:\n",
        "    print(\"Bad Input of type...\")"
      ]
    },
    {
      "cell_type": "markdown",
      "metadata": {
        "id": "JImkyXo_35lR"
      },
      "source": [
        "# Question 2\n",
        "Write a function named MOST_POPULARS_TRIPLE that receives a parameter TEXT and find the most common triplet of letters in this text. A triplet of letters is defined as three consecutive letters in any word included in the text. Note that a space is not part of a sequence. If there are more than one popular triplet, you must print all of them. In addition the function will print the maximal number of occurrences of such triplets.\n",
        "\n",
        "Example:\n",
        "\n",
        "TEXT = \"This is an example of a text having multipleeeee lengthssssssssss 12345 rrrrrrrrrr\"\n",
        "\n",
        "MOST_POPULARS_PAIRS(TEXT) will print\n",
        "\n",
        "8 ['sss', 'rrr']\n",
        "\n",
        "Explanation of results:\n",
        "\n",
        "8 - number of occurrences of most popular triplets\n",
        "\n",
        "['sss', 'rrr'] - most popular triplets"
      ]
    },
    {
      "cell_type": "code",
      "execution_count": 3,
      "metadata": {},
      "outputs": [
        {
          "name": "stdout",
          "output_type": "stream",
          "text": [
            "8 ['sss', 'rrr']\n"
          ]
        }
      ],
      "source": [
        "\n",
        "def MOST_POPULARS_TRIPLE(TEXT):\n",
        "    if not isinstance(TEXT, str):\n",
        "        print(\"Bad Input of type...\")\n",
        "        return\n",
        "\n",
        "    triplet_histogram = {}\n",
        "\n",
        "    words = TEXT.split()\n",
        "    for word in words:\n",
        "        for i in range(len(word) - 2):\n",
        "            triplet = word[i:i+3]\n",
        "            triplet_histogram[triplet] = triplet_histogram.get(triplet, 0) + 1\n",
        "\n",
        "    max_count = max(triplet_histogram.values())\n",
        "    most_common_triplets = [k for k, v in triplet_histogram.items() if v == max_count]\n",
        "\n",
        "    print(max_count, most_common_triplets)\n",
        "\n",
        "# Using the function\n",
        "try:\n",
        "    TEXT = input(\"Enter a text: \")\n",
        "    MOST_POPULARS_TRIPLE(TEXT)\n",
        "except Exception as e:\n",
        "    print(\"Bad Input of type...\")"
      ]
    },
    {
      "cell_type": "markdown",
      "metadata": {
        "id": "G4GPXY6E8K8C"
      },
      "source": [
        "# Question 3\n",
        "\n",
        "Write a function CLEAN_NUMERIC_SERIE which receives a parameters SERIES and fill_mode with two optional values 'MEAN' or 'MEDIAN' (default='MEAN').\n",
        "\n",
        "and returns:\n",
        "* percentage of NULL entries on the series\n",
        "* a new series RESULT_SERIES:\n",
        "  * based on the parameter SERIES\n",
        "  * NULL values replaced by mean or median of the non-empty values of the SERIE according to fill_mode parameter value.\n",
        "* a series of outliers on SERIE.\n",
        "\n",
        "A value defined as outlier using the Interquartile Range (IQR) method, is a data point that falls either below the lower bound or above the upper bound calculated based on the distribution of the data. Specifically:\n",
        "Lower Bound: An outlier is a data point that falls below the lower bound, which is calculated as\n",
        "Q1-1.5xIQR, where Q1 is the first quartile (25th percentile) and IQR is the Interquartile Range.\n",
        "Upper Bound: An outlier is a data point that falls above the upper bound, which is calculated as Q3+1.5xIQR, where Q3 is the third quartile (75th percentile) and IQR is the Interquartile Range.\n",
        "In other words, outliers are observations that are unusually far from the central tendency of the dataset, where \"unusually far\" is defined by being more than 1.5 times the IQR away from the quartiles.\n"
      ]
    },
    {
      "cell_type": "code",
      "execution_count": 6,
      "metadata": {},
      "outputs": [
        {
          "name": "stdout",
          "output_type": "stream",
          "text": [
            "Percentage: 10.0\n",
            "Filled List:\n",
            "0          4.0\n",
            "1          1.0\n",
            "2          3.0\n",
            "3          2.0\n",
            "4          5.0\n",
            "5          3.0\n",
            "6          2.0\n",
            "7          9.0\n",
            "8   -1000000.0\n",
            "9          3.0\n",
            "dtype: float64\n",
            "Outliers:\n",
            "7          9.0\n",
            "8   -1000000.0\n",
            "dtype: float64\n"
          ]
        }
      ],
      "source": [
        "\n",
        "import pandas as pd\n",
        "import numpy as np\n",
        "\n",
        "def CLEAN_NUMERIC_SERIE(SERIES, fill_mode='MEAN'):\n",
        "    if not isinstance(SERIES, pd.Series):\n",
        "        print(\"Bad Input of type...\")\n",
        "        return\n",
        "\n",
        "    # Calculate percentage of NULL entries\n",
        "    null_percentage = SERIES.isnull().sum() / len(SERIES) * 100\n",
        "\n",
        "    # Replace NULL values with mean or median\n",
        "    if fill_mode == 'MEAN':\n",
        "        RESULT_SERIES = SERIES.fillna(SERIES.mean())\n",
        "    elif fill_mode == 'MEDIAN':\n",
        "        RESULT_SERIES = SERIES.fillna(SERIES.median())\n",
        "    else:\n",
        "        print(\"Invalid fill_mode. Choose 'MEAN' or 'MEDIAN'.\")\n",
        "        return\n",
        "\n",
        "    # Identify outliers\n",
        "    Q1 = SERIES.quantile(0.25)\n",
        "    Q3 = SERIES.quantile(0.75)\n",
        "    IQR = Q3 - Q1\n",
        "    outliers = SERIES[(SERIES < (Q1 - 1.5 * IQR)) | (SERIES > (Q3 + 1.5 * IQR))]\n",
        "\n",
        "    return null_percentage, RESULT_SERIES, outliers\n",
        "\n",
        "test_serie = pd.Series ([4,1,3,2,5,3,2,9,-1000000,None])\n",
        "percentage, full_list, outliers = CLEAN_NUMERIC_SERIE(test_serie,fill_mode=\"MEDIAN\")\n",
        "print(\"Percentage:\",percentage)\n",
        "print(\"Filled List:\")\n",
        "print(full_list)\n",
        "print(\"Outliers:\")\n",
        "print(outliers)\n"
      ]
    },
    {
      "cell_type": "markdown",
      "metadata": {
        "id": "QZScmPcUIAuB"
      },
      "source": [
        "Example: for the following code, the output is attached.\n",
        "\n",
        "import pandas as pd\n",
        "test_serie = pd.Series ([4,1,3,2,5,3,2,9,-1000000,None])\n",
        "percentage, full_list, outliers = CLEAN_NUMERIC_SERIE(test_serie,fill_mode=\"MEDIAN\")\n",
        "print(\"Percentage:\",percentage)\n",
        "print(\"Filled List:\")\n",
        "print(full_list)\n",
        "print(\"Outliers:\")\n",
        "print(outliers)\n",
        "\n",
        "Output:\n",
        "Percentage: 0.1\n",
        "Filled List:\n",
        "0          4.0\n",
        "1          1.0\n",
        "2          3.0\n",
        "3          2.0\n",
        "4          5.0\n",
        "5          3.0\n",
        "6          2.0\n",
        "7          9.0\n",
        "8   -1000000.0\n",
        "9          3.0\n",
        "dtype: float64\n",
        "Outliers:\n",
        "7          9.0\n",
        "8   -1000000.0\n",
        "dtype: float64"
      ]
    },
    {
      "cell_type": "markdown",
      "metadata": {
        "id": "6PLomNokv521"
      },
      "source": [
        "# Question 4\n",
        "Write a function FIND_PEAK program receiving a SERIES as paramter to find the positions of the values neighboured by smaller values on both sides in a given series.\n",
        "Example: for the following series the output follows.\n",
        "\n",
        "\n",
        "Original series:\n",
        "\n",
        "0    1\n",
        "\n",
        "1    8\n",
        "\n",
        "2    7\n",
        "\n",
        "3    5\n",
        "\n",
        "4    6\n",
        "\n",
        "5    5\n",
        "\n",
        "6    3\n",
        "\n",
        "7    4\n",
        "\n",
        "8    7\n",
        "\n",
        "9    1\n",
        "\n",
        "dtype: int64\n",
        "\n",
        "Positions of the values surrounded by smaller values on both sides:\n",
        "[1 4 8]"
      ]
    },
    {
      "cell_type": "code",
      "execution_count": 7,
      "metadata": {},
      "outputs": [
        {
          "name": "stdout",
          "output_type": "stream",
          "text": [
            "[1 4 8]\n"
          ]
        }
      ],
      "source": [
        "import numpy as np\n",
        "\n",
        "def FIND_PEAK(SERIES):\n",
        "    if not isinstance(SERIES, (list, np.ndarray)):\n",
        "        print(\"Bad Input of type...\")\n",
        "        return\n",
        "\n",
        "    peaks = []\n",
        "\n",
        "    for i in range(1, len(SERIES) - 1):\n",
        "        if SERIES[i] > SERIES[i-1] and SERIES[i] > SERIES[i+1]:\n",
        "            peaks.append(i)\n",
        "\n",
        "    return np.array(peaks)\n",
        "\n",
        "# Using the function\n",
        "try:\n",
        "    SERIES = [1, 8, 7, 5, 6, 5, 3, 4, 7, 1]\n",
        "    print(FIND_PEAK(SERIES))\n",
        "except Exception as e:\n",
        "    print(\"Bad Input of type...\")\n"
      ]
    }
  ],
  "metadata": {
    "colab": {
      "provenance": [],
      "toc_visible": true
    },
    "kernelspec": {
      "display_name": "Python 3 (ipykernel)",
      "language": "python",
      "name": "python3"
    },
    "language_info": {
      "codemirror_mode": {
        "name": "ipython",
        "version": 3
      },
      "file_extension": ".py",
      "mimetype": "text/x-python",
      "name": "python",
      "nbconvert_exporter": "python",
      "pygments_lexer": "ipython3",
      "version": "3.11.9"
    }
  },
  "nbformat": 4,
  "nbformat_minor": 0
}
